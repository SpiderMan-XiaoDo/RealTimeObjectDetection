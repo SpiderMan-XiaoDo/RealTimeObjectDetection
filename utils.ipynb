{
 "cells": [
  {
   "cell_type": "code",
   "execution_count": 1,
   "metadata": {},
   "outputs": [],
   "source": [
    "import cv2\n",
    "import os\n",
    "import time\n",
    "import uuid"
   ]
  },
  {
   "cell_type": "code",
   "execution_count": null,
   "metadata": {},
   "outputs": [],
   "source": []
  },
  {
   "cell_type": "code",
   "execution_count": 2,
   "metadata": {},
   "outputs": [],
   "source": [
    "IMAGES_PATH = 'D:\\WorkSpace\\ComputerVison\\RealTimeObjectDetection\\Tensorflow\\workspace\\images\\collectedimages'"
   ]
  },
  {
   "cell_type": "code",
   "execution_count": 3,
   "metadata": {},
   "outputs": [],
   "source": [
    "labels = ['hello']\n",
    "number_imgs = 15"
   ]
  },
  {
   "cell_type": "code",
   "execution_count": 4,
   "metadata": {},
   "outputs": [
    {
     "name": "stdout",
     "output_type": "stream",
     "text": [
      "Collecting image for hello\n",
      "iamgename  D:\\WorkSpace\\ComputerVison\\RealTimeObjectDetection\\Tensorflow\\workspace\\images\\collectedimages\\hello\\hellod38df627-7cb1-11ee-b725-823049036c37.jpg\n",
      "iamgename  D:\\WorkSpace\\ComputerVison\\RealTimeObjectDetection\\Tensorflow\\workspace\\images\\collectedimages\\hello\\hellod4c5a6bf-7cb1-11ee-92d8-823049036c37.jpg\n",
      "iamgename  D:\\WorkSpace\\ComputerVison\\RealTimeObjectDetection\\Tensorflow\\workspace\\images\\collectedimages\\hello\\hellod5fb6d7c-7cb1-11ee-abab-823049036c37.jpg\n",
      "iamgename  D:\\WorkSpace\\ComputerVison\\RealTimeObjectDetection\\Tensorflow\\workspace\\images\\collectedimages\\hello\\hellod7339f16-7cb1-11ee-b485-823049036c37.jpg\n",
      "iamgename  D:\\WorkSpace\\ComputerVison\\RealTimeObjectDetection\\Tensorflow\\workspace\\images\\collectedimages\\hello\\hellod8663818-7cb1-11ee-9a88-823049036c37.jpg\n",
      "iamgename  D:\\WorkSpace\\ComputerVison\\RealTimeObjectDetection\\Tensorflow\\workspace\\images\\collectedimages\\hello\\hellod99afa14-7cb1-11ee-a6a0-823049036c37.jpg\n",
      "iamgename  D:\\WorkSpace\\ComputerVison\\RealTimeObjectDetection\\Tensorflow\\workspace\\images\\collectedimages\\hello\\hellodacdfb89-7cb1-11ee-9d5a-823049036c37.jpg\n",
      "iamgename  D:\\WorkSpace\\ComputerVison\\RealTimeObjectDetection\\Tensorflow\\workspace\\images\\collectedimages\\hello\\hellodc04390b-7cb1-11ee-b652-823049036c37.jpg\n",
      "iamgename  D:\\WorkSpace\\ComputerVison\\RealTimeObjectDetection\\Tensorflow\\workspace\\images\\collectedimages\\hello\\hellodd39fbf2-7cb1-11ee-a53b-823049036c37.jpg\n",
      "iamgename  D:\\WorkSpace\\ComputerVison\\RealTimeObjectDetection\\Tensorflow\\workspace\\images\\collectedimages\\hello\\hellode70a6a1-7cb1-11ee-98fd-823049036c37.jpg\n",
      "iamgename  D:\\WorkSpace\\ComputerVison\\RealTimeObjectDetection\\Tensorflow\\workspace\\images\\collectedimages\\hello\\hellodfa67458-7cb1-11ee-878b-823049036c37.jpg\n",
      "iamgename  D:\\WorkSpace\\ComputerVison\\RealTimeObjectDetection\\Tensorflow\\workspace\\images\\collectedimages\\hello\\helloe0df120d-7cb1-11ee-8a18-823049036c37.jpg\n",
      "iamgename  D:\\WorkSpace\\ComputerVison\\RealTimeObjectDetection\\Tensorflow\\workspace\\images\\collectedimages\\hello\\helloe2137212-7cb1-11ee-871a-823049036c37.jpg\n",
      "iamgename  D:\\WorkSpace\\ComputerVison\\RealTimeObjectDetection\\Tensorflow\\workspace\\images\\collectedimages\\hello\\helloe34984c2-7cb1-11ee-b2b1-823049036c37.jpg\n",
      "iamgename  D:\\WorkSpace\\ComputerVison\\RealTimeObjectDetection\\Tensorflow\\workspace\\images\\collectedimages\\hello\\helloe47d4df6-7cb1-11ee-9073-823049036c37.jpg\n"
     ]
    }
   ],
   "source": [
    "\n",
    "for label in labels:\n",
    "    label_path = os.path.join('Tensorflow', 'workspace', 'images', 'collectedimages', label)\n",
    "    os.makedirs(label_path, exist_ok=True)\n",
    "    cap = cv2.VideoCapture(0)\n",
    "    print('Collecting image for {}'.format(label))\n",
    "    time.sleep(5)\n",
    "\n",
    "    for imgnum in range(number_imgs):\n",
    "        ret, frame = cap.read()\n",
    "        iamgename = os.path.join(IMAGES_PATH, label, label + '{}.jpg'.format(str(uuid.uuid1())))\n",
    "        print('iamgename ', iamgename )\n",
    "        cv2.imwrite(iamgename, frame)\n",
    "        cv2.imshow('frame {}'.format(label), frame)\n",
    "        time.sleep(2)\n",
    "\n",
    "        if cv2.waitKey(1) & 0xFF == ord('q'):\n",
    "            break\n",
    "    cap.release()\n",
    "\n",
    "    if cv2.waitKey(1) & 0xFF == ord('q'):\n",
    "        break  # Thoát vòng lặp nếu người dùng nhấn 'q'\n",
    "\n",
    "cv2.destroyAllWindows()\n"
   ]
  },
  {
   "cell_type": "code",
   "execution_count": null,
   "metadata": {},
   "outputs": [],
   "source": []
  }
 ],
 "metadata": {
  "kernelspec": {
   "display_name": "Python 3",
   "language": "python",
   "name": "python3"
  },
  "language_info": {
   "codemirror_mode": {
    "name": "ipython",
    "version": 3
   },
   "file_extension": ".py",
   "mimetype": "text/x-python",
   "name": "python",
   "nbconvert_exporter": "python",
   "pygments_lexer": "ipython3",
   "version": "3.10.5"
  }
 },
 "nbformat": 4,
 "nbformat_minor": 2
}
